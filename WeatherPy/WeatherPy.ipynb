{
 "cells": [
  {
   "cell_type": "markdown",
   "metadata": {},
   "source": [
    "# WeatherPy\n",
    "----\n",
    "\n",
    "#### Note\n",
    "* Instructions have been included for each segment. You do not have to follow them exactly, but they are included to help you think through the steps."
   ]
  },
  {
   "cell_type": "code",
   "execution_count": 2,
   "metadata": {
    "scrolled": true
   },
   "outputs": [],
   "source": [
    "# Dependencies\n",
    "import matplotlib.pyplot as plt\n",
    "import pandas as pd\n",
    "import numpy as np\n",
    "import requests\n",
    "import time\n",
    "import json\n",
    "import scipy.stats as st\n",
    "from scipy.stats import linregress\n",
    "from scipy import stats\n",
    "# Import API key\n",
    "from config import api_key\n",
    "\n",
    "# Incorporated citipy to determine city based on latitude and longitude\n",
    "from citipy import citipy\n",
    "\n",
    "# Output File (CSV)\n",
    "output_data_file = \"output_data/cities.csv\"\n",
    "\n",
    "# Range of latitudes and longitudes\n",
    "lat_range = (-90, 90)\n",
    "lng_range = (-180, 180)"
   ]
  },
  {
   "cell_type": "code",
   "execution_count": 2,
   "metadata": {},
   "outputs": [
    {
     "data": {
      "text/plain": [
       "610"
      ]
     },
     "execution_count": 2,
     "metadata": {},
     "output_type": "execute_result"
    }
   ],
   "source": [
    "# List for holding lat_lngs and cities\n",
    "lat_lngs = []\n",
    "cities = []\n",
    "\n",
    "# Create a set of random lat and lng combinations\n",
    "lats = np.random.uniform(low=-90.000, high=90.000, size=1500)\n",
    "lngs = np.random.uniform(low=-180.000, high=180.000, size=1500)\n",
    "lat_lngs = zip(lats, lngs)\n",
    "\n",
    "# Identify nearest city for each lat, lng combination\n",
    "for lat_lng in lat_lngs:\n",
    "    city = citipy.nearest_city(lat_lng[0], lat_lng[1]).city_name\n",
    "    \n",
    "    # If the city is unique, then add it to a our cities list\n",
    "    if city not in cities:\n",
    "        cities.append(city)\n",
    "\n",
    "# Print the city count to confirm sufficient count\n",
    "len(cities)"
   ]
  },
  {
   "cell_type": "markdown",
   "metadata": {},
   "source": [
    "## Generate Cities List"
   ]
  },
  {
   "cell_type": "code",
   "execution_count": 3,
   "metadata": {},
   "outputs": [
    {
     "data": {
      "text/plain": [
       "608"
      ]
     },
     "execution_count": 3,
     "metadata": {},
     "output_type": "execute_result"
    }
   ],
   "source": [
    "# List for holding lat_lngs and cities\n",
    "lat_lngs = []\n",
    "cities = []\n",
    "\n",
    "# Create a set of random lat and lng combinations\n",
    "lats = np.random.uniform(low=-90.000, high=90.000, size=1500)\n",
    "lngs = np.random.uniform(low=-180.000, high=180.000, size=1500)\n",
    "lat_lngs = zip(lats, lngs)\n",
    "\n",
    "# Identify nearest city for each lat, lng combination\n",
    "for lat_lng in lat_lngs:\n",
    "    city = citipy.nearest_city(lat_lng[0], lat_lng[1]).city_name\n",
    "    \n",
    "    # If the city is unique, then add it to a our cities list\n",
    "    if city not in cities:\n",
    "        cities.append(city)\n",
    "\n",
    "# Print the city count to confirm sufficient count\n",
    "len(cities)"
   ]
  },
  {
   "cell_type": "code",
   "execution_count": 4,
   "metadata": {},
   "outputs": [],
   "source": [
    "city_name_list = []\n",
    "cloudiness_list = []\n",
    "country_list = []\n",
    "date_list = []\n",
    "humidity_list = []\n",
    "lat_list = []\n",
    "lng_list = []\n",
    "max_temp_list = []\n",
    "wind_speed_list = []\n",
    "index_counter = 0\n",
    "set_counter = 1"
   ]
  },
  {
   "cell_type": "code",
   "execution_count": null,
   "metadata": {},
   "outputs": [],
   "source": [
    "\n"
   ]
  },
  {
   "cell_type": "markdown",
   "metadata": {},
   "source": [
    "### Perform API Calls\n",
    "* Perform a weather check on each city using a series of successive API calls.\n",
    "* Include a print log of each city as it'sbeing processed (with the city number and city name).\n"
   ]
  },
  {
   "cell_type": "code",
   "execution_count": null,
   "metadata": {},
   "outputs": [],
   "source": []
  },
  {
   "cell_type": "code",
   "execution_count": 5,
   "metadata": {},
   "outputs": [
    {
     "name": "stdout",
     "output_type": "stream",
     "text": [
      "Beginning Data Retrieval \n",
      "-----------------------------\n",
      "Processing Record 1 of Set 1 : necochea\n",
      "City not found. Skipping...\n",
      "Processing Record 2 of Set 1 : santa maria\n",
      "Processing Record 3 of Set 1 : nikolskoye\n",
      "Processing Record 4 of Set 1 : qaanaaq\n",
      "Processing Record 5 of Set 1 : ribeira grande\n",
      "Processing Record 6 of Set 1 : kapaa\n",
      "Processing Record 7 of Set 1 : east london\n",
      "Processing Record 8 of Set 1 : bilibino\n",
      "Processing Record 9 of Set 1 : shymkent\n",
      "Processing Record 10 of Set 1 : coquimbo\n",
      "Processing Record 11 of Set 1 : sitka\n",
      "Processing Record 12 of Set 1 : busayra\n",
      "Processing Record 13 of Set 1 : clyde river\n",
      "Processing Record 14 of Set 1 : yellowknife\n",
      "Processing Record 15 of Set 1 : assiniboia\n",
      "Processing Record 16 of Set 1 : saskylakh\n",
      "Processing Record 17 of Set 1 : shimoda\n",
      "City not found. Skipping...\n",
      "City not found. Skipping...\n",
      "Processing Record 18 of Set 1 : hornepayne\n",
      "Processing Record 19 of Set 1 : lebu\n",
      "Processing Record 20 of Set 1 : rapid valley\n",
      "Processing Record 21 of Set 1 : lodwar\n",
      "Processing Record 22 of Set 1 : bambari\n",
      "Processing Record 23 of Set 1 : kurilsk\n",
      "Processing Record 24 of Set 1 : bluff\n",
      "Processing Record 25 of Set 1 : pacific grove\n",
      "Processing Record 26 of Set 1 : balclutha\n",
      "Processing Record 27 of Set 1 : quelimane\n",
      "City not found. Skipping...\n",
      "Processing Record 28 of Set 1 : punta arenas\n",
      "Processing Record 29 of Set 1 : la paz\n",
      "Processing Record 30 of Set 1 : rikitea\n",
      "Processing Record 31 of Set 1 : dumai\n",
      "Processing Record 32 of Set 1 : harlingen\n",
      "Processing Record 33 of Set 1 : nome\n",
      "Processing Record 34 of Set 1 : boa vista\n",
      "Processing Record 35 of Set 1 : zambezi\n",
      "Processing Record 36 of Set 1 : upernavik\n",
      "Processing Record 37 of Set 1 : ahipara\n",
      "City not found. Skipping...\n",
      "Processing Record 38 of Set 1 : caucaia\n",
      "Processing Record 39 of Set 1 : ostrovnoy\n",
      "Processing Record 40 of Set 1 : port hardy\n",
      "Processing Record 41 of Set 1 : deputatskiy\n",
      "Processing Record 42 of Set 1 : cherskiy\n",
      "Processing Record 43 of Set 1 : praia da vitoria\n",
      "Processing Record 44 of Set 1 : caravelas\n",
      "Processing Record 45 of Set 1 : nortelandia\n",
      "City not found. Skipping...\n",
      "Processing Record 46 of Set 1 : kysyl-syr\n",
      "Processing Record 47 of Set 1 : hithadhoo\n",
      "Processing Record 48 of Set 1 : vestmannaeyjar\n",
      "Processing Record 49 of Set 1 : angicos\n",
      "Processing Record 50 of Set 1 : port elizabeth\n",
      "City not found. Skipping...\n",
      "Processing Record 0 of Set 2 : busselton\n",
      "Processing Record 1 of Set 2 : acapulco\n",
      "Processing Record 2 of Set 2 : te anau\n",
      "Processing Record 3 of Set 2 : great falls\n",
      "Processing Record 4 of Set 2 : broken hill\n",
      "Processing Record 5 of Set 2 : ushuaia\n",
      "Processing Record 6 of Set 2 : hasaki\n",
      "Processing Record 7 of Set 2 : tiznit\n",
      "Processing Record 8 of Set 2 : mataura\n",
      "Processing Record 9 of Set 2 : hermanus\n",
      "Processing Record 10 of Set 2 : challapata\n",
      "Processing Record 11 of Set 2 : barrow\n",
      "Processing Record 12 of Set 2 : dikson\n",
      "Processing Record 13 of Set 2 : ponta do sol\n",
      "Processing Record 14 of Set 2 : new norfolk\n",
      "Processing Record 15 of Set 2 : cidreira\n",
      "Processing Record 16 of Set 2 : grafton\n",
      "Processing Record 17 of Set 2 : cobija\n",
      "Processing Record 18 of Set 2 : katsuura\n",
      "Processing Record 19 of Set 2 : lorengau\n",
      "Processing Record 20 of Set 2 : kachug\n",
      "Processing Record 21 of Set 2 : albany\n",
      "Processing Record 22 of Set 2 : jamestown\n",
      "Processing Record 23 of Set 2 : bengkulu\n",
      "Processing Record 24 of Set 2 : kingsport\n",
      "Processing Record 25 of Set 2 : ramshir\n",
      "Processing Record 26 of Set 2 : mecca\n",
      "Processing Record 27 of Set 2 : charters towers\n",
      "Processing Record 28 of Set 2 : port blair\n",
      "Processing Record 29 of Set 2 : canelones\n",
      "Processing Record 30 of Set 2 : sarangani\n",
      "Processing Record 31 of Set 2 : salalah\n",
      "Processing Record 32 of Set 2 : rocha\n",
      "Processing Record 33 of Set 2 : victoria\n",
      "Processing Record 34 of Set 2 : paris\n",
      "City not found. Skipping...\n",
      "Processing Record 35 of Set 2 : ulaangom\n",
      "Processing Record 36 of Set 2 : tiksi\n",
      "Processing Record 37 of Set 2 : perth\n",
      "Processing Record 38 of Set 2 : arti\n",
      "Processing Record 39 of Set 2 : tautira\n",
      "Processing Record 40 of Set 2 : shache\n",
      "Processing Record 41 of Set 2 : pisco\n",
      "Processing Record 42 of Set 2 : haines junction\n",
      "Processing Record 43 of Set 2 : shalinskoye\n",
      "Processing Record 44 of Set 2 : butaritari\n",
      "Processing Record 45 of Set 2 : esperance\n",
      "Processing Record 46 of Set 2 : buala\n",
      "Processing Record 47 of Set 2 : vaini\n",
      "Processing Record 48 of Set 2 : mandera\n",
      "Processing Record 49 of Set 2 : atuona\n",
      "Processing Record 50 of Set 2 : nanortalik\n",
      "Processing Record 0 of Set 3 : dingle\n",
      "Processing Record 1 of Set 3 : kamenka\n",
      "City not found. Skipping...\n",
      "Processing Record 2 of Set 3 : bamenda\n",
      "Processing Record 3 of Set 3 : gurun\n",
      "City not found. Skipping...\n",
      "Processing Record 4 of Set 3 : castro\n",
      "Processing Record 5 of Set 3 : peniche\n",
      "Processing Record 6 of Set 3 : tasiilaq\n",
      "Processing Record 7 of Set 3 : vanavara\n",
      "Processing Record 8 of Set 3 : bambous virieux\n",
      "Processing Record 9 of Set 3 : saldanha\n",
      "Processing Record 10 of Set 3 : komsomolskiy\n",
      "Processing Record 11 of Set 3 : gat\n",
      "Processing Record 12 of Set 3 : velikiy ustyug\n",
      "Processing Record 13 of Set 3 : guerrero negro\n",
      "Processing Record 14 of Set 3 : bara\n",
      "Processing Record 15 of Set 3 : puerto ayora\n",
      "Processing Record 16 of Set 3 : iqaluit\n",
      "City not found. Skipping...\n",
      "Processing Record 17 of Set 3 : hilo\n",
      "Processing Record 18 of Set 3 : calama\n",
      "Processing Record 19 of Set 3 : pyinmana\n",
      "Processing Record 20 of Set 3 : arraial do cabo\n",
      "Processing Record 21 of Set 3 : ghanzi\n",
      "Processing Record 22 of Set 3 : carberry\n",
      "Processing Record 23 of Set 3 : matara\n",
      "Processing Record 24 of Set 3 : avarua\n",
      "Processing Record 25 of Set 3 : tuktoyaktuk\n",
      "Processing Record 26 of Set 3 : saint anthony\n",
      "Processing Record 27 of Set 3 : georgetown\n",
      "Processing Record 28 of Set 3 : port lincoln\n",
      "Processing Record 29 of Set 3 : verkhnedneprovskiy\n",
      "Processing Record 30 of Set 3 : ibadan\n",
      "Processing Record 31 of Set 3 : presidencia roque saenz pena\n",
      "Processing Record 32 of Set 3 : kaitangata\n",
      "Processing Record 33 of Set 3 : rio gallegos\n",
      "Processing Record 34 of Set 3 : troy\n",
      "Processing Record 35 of Set 3 : provideniya\n",
      "Processing Record 36 of Set 3 : laguna\n",
      "Processing Record 37 of Set 3 : san-pedro\n",
      "Processing Record 38 of Set 3 : puerto madero\n",
      "Processing Record 39 of Set 3 : airai\n",
      "Processing Record 40 of Set 3 : sao gabriel da cachoeira\n",
      "Processing Record 41 of Set 3 : kirakira\n",
      "Processing Record 42 of Set 3 : ornskoldsvik\n",
      "Processing Record 43 of Set 3 : cape town\n",
      "Processing Record 44 of Set 3 : padang\n",
      "Processing Record 45 of Set 3 : chuy\n",
      "Processing Record 46 of Set 3 : pevek\n",
      "Processing Record 47 of Set 3 : mar del plata\n",
      "Processing Record 48 of Set 3 : dibulla\n",
      "Processing Record 49 of Set 3 : aswan\n",
      "Processing Record 50 of Set 3 : vostok\n",
      "City not found. Skipping...\n",
      "Processing Record 0 of Set 4 : mildura\n",
      "Processing Record 1 of Set 4 : turukhansk\n",
      "Processing Record 2 of Set 4 : chokurdakh\n",
      "Processing Record 3 of Set 4 : naze\n",
      "Processing Record 4 of Set 4 : ayan\n",
      "Processing Record 5 of Set 4 : khatanga\n",
      "Processing Record 6 of Set 4 : mahibadhoo\n",
      "City not found. Skipping...\n",
      "Processing Record 7 of Set 4 : santa isabel do rio negro\n",
      "Processing Record 8 of Set 4 : oranjemund\n",
      "Processing Record 9 of Set 4 : manicore\n",
      "Processing Record 10 of Set 4 : adrar\n",
      "Processing Record 11 of Set 4 : sira\n",
      "Processing Record 12 of Set 4 : popova\n",
      "Processing Record 13 of Set 4 : luau\n",
      "Processing Record 14 of Set 4 : boshnyakovo\n",
      "Processing Record 15 of Set 4 : mehendiganj\n",
      "City not found. Skipping...\n",
      "Processing Record 16 of Set 4 : torrington\n",
      "City not found. Skipping...\n",
      "City not found. Skipping...\n",
      "Processing Record 17 of Set 4 : abha\n",
      "Processing Record 18 of Set 4 : abbeville\n",
      "Processing Record 19 of Set 4 : antalaha\n",
      "City not found. Skipping...\n",
      "Processing Record 20 of Set 4 : kerema\n",
      "Processing Record 21 of Set 4 : lazo\n",
      "City not found. Skipping...\n",
      "Processing Record 22 of Set 4 : bahia blanca\n",
      "Processing Record 23 of Set 4 : senador guiomard\n",
      "City not found. Skipping...\n",
      "Processing Record 24 of Set 4 : avera\n",
      "Processing Record 25 of Set 4 : isangel\n",
      "Processing Record 26 of Set 4 : bubaque\n",
      "Processing Record 27 of Set 4 : kahului\n",
      "Processing Record 28 of Set 4 : raga\n",
      "Processing Record 29 of Set 4 : port macquarie\n",
      "Processing Record 30 of Set 4 : geraldton\n",
      "Processing Record 31 of Set 4 : kasongo-lunda\n",
      "City not found. Skipping...\n"
     ]
    },
    {
     "name": "stdout",
     "output_type": "stream",
     "text": [
      "Processing Record 32 of Set 4 : srednekolymsk\n",
      "Processing Record 33 of Set 4 : lagoa\n",
      "Processing Record 34 of Set 4 : kavieng\n",
      "Processing Record 35 of Set 4 : lata\n",
      "Processing Record 36 of Set 4 : torbay\n",
      "Processing Record 37 of Set 4 : richards bay\n",
      "Processing Record 38 of Set 4 : atasu\n",
      "Processing Record 39 of Set 4 : hamilton\n",
      "Processing Record 40 of Set 4 : xinzhou\n",
      "Processing Record 41 of Set 4 : vila velha\n",
      "Processing Record 42 of Set 4 : bay roberts\n",
      "Processing Record 43 of Set 4 : tandil\n",
      "Processing Record 44 of Set 4 : leningradskiy\n",
      "Processing Record 45 of Set 4 : meadow lake\n",
      "City not found. Skipping...\n",
      "Processing Record 46 of Set 4 : kulhudhuffushi\n",
      "Processing Record 47 of Set 4 : rio claro\n",
      "Processing Record 48 of Set 4 : kargasok\n",
      "Processing Record 49 of Set 4 : pordim\n",
      "Processing Record 50 of Set 4 : ilo\n",
      "Processing Record 0 of Set 5 : oshawa\n",
      "Processing Record 1 of Set 5 : sioux lookout\n",
      "Processing Record 2 of Set 5 : kungurtug\n",
      "Processing Record 3 of Set 5 : hami\n",
      "Processing Record 4 of Set 5 : coracao de jesus\n",
      "Processing Record 5 of Set 5 : ntoum\n",
      "Processing Record 6 of Set 5 : ancud\n",
      "Processing Record 7 of Set 5 : talnakh\n",
      "Processing Record 8 of Set 5 : japura\n",
      "Processing Record 9 of Set 5 : lansdale\n",
      "Processing Record 10 of Set 5 : varzea da palma\n",
      "Processing Record 11 of Set 5 : kirishi\n",
      "City not found. Skipping...\n",
      "Processing Record 12 of Set 5 : turlock\n",
      "Processing Record 13 of Set 5 : abashiri\n",
      "Processing Record 14 of Set 5 : hobart\n",
      "Processing Record 15 of Set 5 : shevchenkove\n",
      "Processing Record 16 of Set 5 : luderitz\n",
      "Processing Record 17 of Set 5 : longyearbyen\n",
      "Processing Record 18 of Set 5 : san juan de las huertas\n",
      "City not found. Skipping...\n",
      "Processing Record 19 of Set 5 : tateyama\n",
      "Processing Record 20 of Set 5 : gorakhpur\n",
      "Processing Record 21 of Set 5 : nyurba\n",
      "Processing Record 22 of Set 5 : nedjo\n",
      "Processing Record 23 of Set 5 : nushki\n",
      "Processing Record 24 of Set 5 : vasterhaninge\n",
      "Processing Record 25 of Set 5 : inhambane\n",
      "Processing Record 26 of Set 5 : honiara\n",
      "Processing Record 27 of Set 5 : cairns\n",
      "Processing Record 28 of Set 5 : xining\n",
      "Processing Record 29 of Set 5 : frunzivka\n",
      "Processing Record 30 of Set 5 : bhadrachalam\n",
      "Processing Record 31 of Set 5 : huarmey\n",
      "Processing Record 32 of Set 5 : saint-philippe\n",
      "Processing Record 33 of Set 5 : sao joao da barra\n",
      "Processing Record 34 of Set 5 : flin flon\n",
      "Processing Record 35 of Set 5 : sobolevo\n",
      "Processing Record 36 of Set 5 : newport\n",
      "Processing Record 37 of Set 5 : karratha\n",
      "Processing Record 38 of Set 5 : sola\n",
      "Processing Record 39 of Set 5 : aklavik\n",
      "Processing Record 40 of Set 5 : ambon\n",
      "Processing Record 41 of Set 5 : bathsheba\n",
      "Processing Record 42 of Set 5 : aktash\n",
      "City not found. Skipping...\n",
      "Processing Record 43 of Set 5 : tazovskiy\n",
      "Processing Record 44 of Set 5 : hofn\n",
      "Processing Record 45 of Set 5 : pangnirtung\n",
      "Processing Record 46 of Set 5 : chumikan\n",
      "Processing Record 47 of Set 5 : tevaitoa\n",
      "City not found. Skipping...\n",
      "Processing Record 48 of Set 5 : puerto asis\n",
      "Processing Record 49 of Set 5 : southbridge\n",
      "Processing Record 50 of Set 5 : kyabe\n",
      "Processing Record 0 of Set 6 : batagay-alyta\n",
      "City not found. Skipping...\n",
      "Processing Record 1 of Set 6 : port alfred\n",
      "Processing Record 2 of Set 6 : lypnyazhka\n",
      "Processing Record 3 of Set 6 : riverton\n",
      "Processing Record 4 of Set 6 : sahuaripa\n",
      "Processing Record 5 of Set 6 : berlevag\n",
      "Processing Record 6 of Set 6 : anchorage\n",
      "Processing Record 7 of Set 6 : namtsy\n",
      "Processing Record 8 of Set 6 : soddy-daisy\n",
      "Processing Record 9 of Set 6 : rajapur\n",
      "Processing Record 10 of Set 6 : san cristobal\n",
      "Processing Record 11 of Set 6 : codrington\n",
      "Processing Record 12 of Set 6 : port said\n",
      "Processing Record 13 of Set 6 : kattivakkam\n",
      "Processing Record 14 of Set 6 : saint george\n",
      "Processing Record 15 of Set 6 : guipavas\n",
      "Processing Record 16 of Set 6 : kuytun\n",
      "Processing Record 17 of Set 6 : broome\n",
      "Processing Record 18 of Set 6 : thunder bay\n",
      "Processing Record 19 of Set 6 : kaeo\n",
      "Processing Record 20 of Set 6 : hibbing\n",
      "Processing Record 21 of Set 6 : sumbe\n",
      "Processing Record 22 of Set 6 : karasburg\n",
      "Processing Record 23 of Set 6 : bredasdorp\n",
      "Processing Record 24 of Set 6 : gwadar\n",
      "Processing Record 25 of Set 6 : plouzane\n",
      "Processing Record 26 of Set 6 : carnarvon\n",
      "Processing Record 27 of Set 6 : ugoofaaru\n",
      "Processing Record 28 of Set 6 : boralday\n",
      "Processing Record 29 of Set 6 : kutum\n",
      "Processing Record 30 of Set 6 : ballina\n",
      "City not found. Skipping...\n",
      "Processing Record 31 of Set 6 : banyuwangi\n",
      "Processing Record 32 of Set 6 : alofi\n",
      "Processing Record 33 of Set 6 : yulara\n",
      "Processing Record 34 of Set 6 : lamar\n",
      "Processing Record 35 of Set 6 : lulea\n",
      "Processing Record 36 of Set 6 : aksu\n",
      "Processing Record 37 of Set 6 : sibu\n",
      "Processing Record 38 of Set 6 : mandiana\n",
      "Processing Record 39 of Set 6 : goderich\n",
      "Processing Record 40 of Set 6 : north bend\n",
      "Processing Record 41 of Set 6 : pamfila\n",
      "City not found. Skipping...\n",
      "Processing Record 42 of Set 6 : chara\n",
      "Processing Record 43 of Set 6 : grand gaube\n",
      "Processing Record 44 of Set 6 : powell river\n",
      "Processing Record 45 of Set 6 : hobyo\n",
      "Processing Record 46 of Set 6 : fort frances\n",
      "Processing Record 47 of Set 6 : hanna\n",
      "Processing Record 48 of Set 6 : ilulissat\n",
      "Processing Record 49 of Set 6 : beyneu\n",
      "Processing Record 50 of Set 6 : la ronge\n",
      "Processing Record 0 of Set 7 : jieshi\n",
      "City not found. Skipping...\n",
      "City not found. Skipping...\n",
      "Processing Record 1 of Set 7 : cabra\n",
      "Processing Record 2 of Set 7 : baffa\n",
      "Processing Record 3 of Set 7 : hovd\n",
      "Processing Record 4 of Set 7 : mareeba\n",
      "Processing Record 5 of Set 7 : domoni\n",
      "Processing Record 6 of Set 7 : shenjiamen\n",
      "Processing Record 7 of Set 7 : saint-augustin\n",
      "Processing Record 8 of Set 7 : agirish\n",
      "Processing Record 9 of Set 7 : kittery\n",
      "Processing Record 10 of Set 7 : mackay\n",
      "Processing Record 11 of Set 7 : mahebourg\n",
      "Processing Record 12 of Set 7 : beloha\n",
      "Processing Record 13 of Set 7 : shingu\n",
      "Processing Record 14 of Set 7 : san luis\n",
      "Processing Record 15 of Set 7 : buchanan\n",
      "Processing Record 16 of Set 7 : buckeye\n",
      "Processing Record 17 of Set 7 : thompson\n",
      "Processing Record 18 of Set 7 : eston\n",
      "Processing Record 19 of Set 7 : kalmar\n",
      "Processing Record 20 of Set 7 : glazov\n",
      "City not found. Skipping...\n",
      "Processing Record 21 of Set 7 : dogondoutchi\n",
      "Processing Record 22 of Set 7 : oktyabrskoye\n",
      "Processing Record 23 of Set 7 : college\n",
      "Processing Record 24 of Set 7 : ladnun\n",
      "Processing Record 25 of Set 7 : luohe\n",
      "Processing Record 26 of Set 7 : haapiti\n",
      "Processing Record 27 of Set 7 : gorom-gorom\n",
      "Processing Record 28 of Set 7 : eyl\n",
      "Processing Record 29 of Set 7 : shakawe\n",
      "Processing Record 30 of Set 7 : taoudenni\n",
      "Processing Record 31 of Set 7 : halifax\n",
      "Processing Record 32 of Set 7 : yar-sale\n",
      "Processing Record 33 of Set 7 : sao filipe\n",
      "Processing Record 34 of Set 7 : port-gentil\n",
      "City not found. Skipping...\n",
      "Processing Record 35 of Set 7 : santiago del estero\n",
      "Processing Record 36 of Set 7 : bagdarin\n",
      "Processing Record 37 of Set 7 : fort nelson\n",
      "Processing Record 38 of Set 7 : callaway\n",
      "Processing Record 39 of Set 7 : chivilcoy\n",
      "City not found. Skipping...\n",
      "Processing Record 40 of Set 7 : okato\n",
      "Processing Record 41 of Set 7 : portland\n",
      "Processing Record 42 of Set 7 : quesnel\n",
      "Processing Record 43 of Set 7 : havelock\n",
      "Processing Record 44 of Set 7 : betulia\n",
      "Processing Record 45 of Set 7 : tahta\n",
      "Processing Record 46 of Set 7 : lisala\n",
      "City not found. Skipping...\n",
      "Processing Record 47 of Set 7 : half moon bay\n",
      "Processing Record 48 of Set 7 : vanimo\n",
      "Processing Record 49 of Set 7 : nyaunglebin\n",
      "Processing Record 50 of Set 7 : mount pleasant\n",
      "Processing Record 0 of Set 8 : aykhal\n",
      "Processing Record 1 of Set 8 : kiomboi\n",
      "Processing Record 2 of Set 8 : axim\n",
      "Processing Record 3 of Set 8 : ryazhsk\n",
      "Processing Record 4 of Set 8 : comodoro rivadavia\n",
      "Processing Record 5 of Set 8 : vao\n",
      "City not found. Skipping...\n",
      "Processing Record 6 of Set 8 : quatre cocos\n",
      "City not found. Skipping...\n",
      "Processing Record 7 of Set 8 : siavonga\n",
      "Processing Record 8 of Set 8 : puerto escondido\n",
      "Processing Record 9 of Set 8 : alta floresta\n",
      "Processing Record 10 of Set 8 : estelle\n",
      "Processing Record 11 of Set 8 : poronaysk\n",
      "Processing Record 12 of Set 8 : alihe\n",
      "Processing Record 13 of Set 8 : los llanitos\n",
      "Processing Record 14 of Set 8 : klishkivtsi\n",
      "Processing Record 15 of Set 8 : itapetinga\n",
      "Processing Record 16 of Set 8 : tahe\n",
      "Processing Record 17 of Set 8 : ormara\n"
     ]
    },
    {
     "name": "stdout",
     "output_type": "stream",
     "text": [
      "Processing Record 18 of Set 8 : hervey bay\n",
      "Processing Record 19 of Set 8 : bethel\n",
      "Processing Record 20 of Set 8 : mataya\n",
      "Processing Record 21 of Set 8 : sur\n",
      "Processing Record 22 of Set 8 : stephenville\n",
      "Processing Record 23 of Set 8 : orange\n",
      "Processing Record 24 of Set 8 : seoul\n",
      "Processing Record 25 of Set 8 : llangefni\n",
      "Processing Record 26 of Set 8 : brae\n",
      "Processing Record 27 of Set 8 : evensk\n",
      "Processing Record 28 of Set 8 : kardla\n",
      "Processing Record 29 of Set 8 : papara\n",
      "Processing Record 30 of Set 8 : luorong\n",
      "City not found. Skipping...\n",
      "Processing Record 31 of Set 8 : havre\n",
      "Processing Record 32 of Set 8 : douentza\n",
      "Processing Record 33 of Set 8 : yumen\n",
      "Processing Record 34 of Set 8 : margate\n",
      "Processing Record 35 of Set 8 : adre\n",
      "City not found. Skipping...\n",
      "City not found. Skipping...\n",
      "Processing Record 36 of Set 8 : xuddur\n",
      "Processing Record 37 of Set 8 : jardim\n",
      "Processing Record 38 of Set 8 : veraval\n",
      "Processing Record 39 of Set 8 : samarai\n",
      "Processing Record 40 of Set 8 : lavrentiya\n",
      "Processing Record 41 of Set 8 : yarmouth\n",
      "Processing Record 42 of Set 8 : ambilobe\n",
      "City not found. Skipping...\n",
      "Processing Record 43 of Set 8 : chichibu\n",
      "Processing Record 44 of Set 8 : faanui\n",
      "Processing Record 45 of Set 8 : pointe michel\n",
      "Processing Record 46 of Set 8 : ponta delgada\n",
      "Processing Record 47 of Set 8 : kisangani\n",
      "Processing Record 48 of Set 8 : alugan\n",
      "Processing Record 49 of Set 8 : dunedin\n",
      "Processing Record 50 of Set 8 : chitral\n",
      "Processing Record 0 of Set 9 : mitsamiouli\n",
      "Processing Record 1 of Set 9 : kruisfontein\n",
      "Processing Record 2 of Set 9 : buxar\n",
      "City not found. Skipping...\n",
      "City not found. Skipping...\n",
      "Processing Record 3 of Set 9 : abu dhabi\n",
      "Processing Record 4 of Set 9 : severo-kurilsk\n",
      "Processing Record 5 of Set 9 : mvuma\n",
      "Processing Record 6 of Set 9 : guerrero\n",
      "Processing Record 7 of Set 9 : chimoio\n",
      "City not found. Skipping...\n",
      "Processing Record 8 of Set 9 : yerbogachen\n",
      "Processing Record 9 of Set 9 : kiunga\n",
      "Processing Record 10 of Set 9 : poum\n",
      "Processing Record 11 of Set 9 : paamiut\n",
      "Processing Record 12 of Set 9 : betsiamites\n",
      "Processing Record 13 of Set 9 : chulman\n",
      "Processing Record 14 of Set 9 : flinders\n",
      "Processing Record 15 of Set 9 : husavik\n",
      "Processing Record 16 of Set 9 : okhotsk\n",
      "Processing Record 17 of Set 9 : pacifica\n",
      "Processing Record 18 of Set 9 : itamaraca\n",
      "Processing Record 19 of Set 9 : antofagasta\n",
      "Processing Record 20 of Set 9 : kidal\n",
      "Processing Record 21 of Set 9 : mahajanga\n",
      "Processing Record 22 of Set 9 : okha\n",
      "Processing Record 23 of Set 9 : coihaique\n",
      "Processing Record 24 of Set 9 : lompoc\n",
      "Processing Record 25 of Set 9 : flagstaff\n",
      "Processing Record 26 of Set 9 : sambava\n",
      "Processing Record 27 of Set 9 : norman wells\n",
      "Processing Record 28 of Set 9 : ucluelet\n",
      "Processing Record 29 of Set 9 : kloulklubed\n",
      "Processing Record 30 of Set 9 : atambua\n",
      "Processing Record 31 of Set 9 : lima\n",
      "Processing Record 32 of Set 9 : pauini\n",
      "Processing Record 33 of Set 9 : salvador\n",
      "Processing Record 34 of Set 9 : vardo\n",
      "Processing Record 35 of Set 9 : bridlington\n",
      "Processing Record 36 of Set 9 : lasa\n",
      "Processing Record 37 of Set 9 : cockburn town\n",
      "Processing Record 38 of Set 9 : qaqortoq\n",
      "Processing Record 39 of Set 9 : bac lieu\n",
      "Processing Record 40 of Set 9 : williamsburg\n",
      "Processing Record 41 of Set 9 : esmeralda\n",
      "Processing Record 42 of Set 9 : tilichiki\n",
      "Processing Record 43 of Set 9 : sokolo\n",
      "Processing Record 44 of Set 9 : zyryanka\n",
      "Processing Record 45 of Set 9 : hurghada\n",
      "Processing Record 46 of Set 9 : palmer\n",
      "Processing Record 47 of Set 9 : chabahar\n",
      "Processing Record 48 of Set 9 : tuatapere\n",
      "Processing Record 49 of Set 9 : teguldet\n",
      "City not found. Skipping...\n",
      "Processing Record 50 of Set 9 : chapleau\n",
      "Processing Record 0 of Set 10 : tagusao\n",
      "City not found. Skipping...\n",
      "City not found. Skipping...\n",
      "Processing Record 1 of Set 10 : manbij\n",
      "Processing Record 2 of Set 10 : marsh harbour\n",
      "Processing Record 3 of Set 10 : minbu\n",
      "City not found. Skipping...\n",
      "Processing Record 4 of Set 10 : piterka\n",
      "Processing Record 5 of Set 10 : ocos\n",
      "Processing Record 6 of Set 10 : sai buri\n",
      "Processing Record 7 of Set 10 : janakpur\n",
      "City not found. Skipping...\n",
      "Processing Record 8 of Set 10 : puerto baquerizo moreno\n",
      "Processing Record 9 of Set 10 : ulagan\n",
      "Processing Record 10 of Set 10 : khor\n",
      "Processing Record 11 of Set 10 : aksarka\n",
      "Processing Record 12 of Set 10 : tigzirt\n",
      "Processing Record 13 of Set 10 : burnie\n",
      "Processing Record 14 of Set 10 : hambantota\n",
      "Processing Record 15 of Set 10 : weatherford\n",
      "City not found. Skipping...\n",
      "Processing Record 16 of Set 10 : mercedes\n",
      "Processing Record 17 of Set 10 : phangnga\n",
      "Processing Record 18 of Set 10 : caloocan\n",
      "Processing Record 19 of Set 10 : vedasandur\n",
      "Processing Record 20 of Set 10 : kendari\n",
      "City not found. Skipping...\n",
      "Processing Record 21 of Set 10 : taltal\n",
      "Processing Record 22 of Set 10 : zhigansk\n",
      "Processing Record 23 of Set 10 : amposta\n",
      "Processing Record 24 of Set 10 : varjota\n",
      "Processing Record 25 of Set 10 : zhezkazgan\n",
      "Processing Record 26 of Set 10 : shiliguri\n",
      "Processing Record 27 of Set 10 : makakilo city\n",
      "Processing Record 28 of Set 10 : pula\n",
      "Processing Record 29 of Set 10 : grindavik\n",
      "Processing Record 30 of Set 10 : gavrilovka vtoraya\n",
      "Processing Record 31 of Set 10 : biltine\n",
      "Processing Record 32 of Set 10 : mayor pablo lagerenza\n",
      "Processing Record 33 of Set 10 : bollnas\n",
      "Processing Record 34 of Set 10 : susanville\n",
      "Processing Record 35 of Set 10 : cukai\n",
      "Processing Record 36 of Set 10 : tigre\n",
      "City not found. Skipping...\n",
      "Processing Record 37 of Set 10 : watsa\n",
      "Processing Record 38 of Set 10 : ascension\n",
      "Processing Record 39 of Set 10 : barra patuca\n",
      "Processing Record 40 of Set 10 : santa cruz del sur\n",
      "Processing Record 41 of Set 10 : sindang\n",
      "Processing Record 42 of Set 10 : conthey\n",
      "Processing Record 43 of Set 10 : boyuibe\n",
      "Processing Record 44 of Set 10 : bardiyah\n",
      "City not found. Skipping...\n",
      "Processing Record 45 of Set 10 : bar harbor\n",
      "Processing Record 46 of Set 10 : varhaug\n",
      "Processing Record 47 of Set 10 : honolulu\n",
      "Processing Record 48 of Set 10 : taunggyi\n",
      "Processing Record 49 of Set 10 : andenes\n",
      "Processing Record 50 of Set 10 : henties bay\n",
      "City not found. Skipping...\n",
      "Processing Record 0 of Set 11 : wanning\n",
      "Processing Record 1 of Set 11 : akure\n",
      "Processing Record 2 of Set 11 : melville\n",
      "Processing Record 3 of Set 11 : auki\n",
      "Processing Record 4 of Set 11 : ust-kuyga\n",
      "Processing Record 5 of Set 11 : picota\n",
      "Processing Record 6 of Set 11 : kargopol\n",
      "Processing Record 7 of Set 11 : engenheiro beltrao\n",
      "Processing Record 8 of Set 11 : indianola\n",
      "Processing Record 9 of Set 11 : sosua\n",
      "Processing Record 10 of Set 11 : kieta\n",
      "Processing Record 11 of Set 11 : san vicente\n",
      "Processing Record 12 of Set 11 : bud\n",
      "Processing Record 13 of Set 11 : rawson\n",
      "Processing Record 14 of Set 11 : tromso\n",
      "Processing Record 15 of Set 11 : port moresby\n",
      "Processing Record 16 of Set 11 : sechura\n",
      "Processing Record 17 of Set 11 : vydrino\n",
      "Processing Record 18 of Set 11 : cabo san lucas\n",
      "Processing Record 19 of Set 11 : marzuq\n",
      "Processing Record 20 of Set 11 : puro\n",
      "Processing Record 21 of Set 11 : hue\n",
      "Processing Record 22 of Set 11 : jimenez\n",
      "Processing Record 23 of Set 11 : danli\n",
      "Processing Record 24 of Set 11 : tanout\n",
      "Processing Record 25 of Set 11 : suba\n",
      "Processing Record 26 of Set 11 : camacupa\n",
      "Processing Record 27 of Set 11 : dalbandin\n",
      "Processing Record 28 of Set 11 : zverinogolovskoye\n",
      "Processing Record 29 of Set 11 : cruz\n",
      "Processing Record 30 of Set 11 : mwinilunga\n",
      "Processing Record 31 of Set 11 : callaguip\n",
      "Processing Record 32 of Set 11 : dhidhdhoo\n",
      "Processing Record 33 of Set 11 : olafsvik\n",
      "Processing Record 34 of Set 11 : pinega\n",
      "Processing Record 35 of Set 11 : constitucion\n",
      "Processing Record 36 of Set 11 : nelson bay\n",
      "Processing Record 37 of Set 11 : uncia\n",
      "Processing Record 38 of Set 11 : juliaca\n",
      "Processing Record 39 of Set 11 : tuy hoa\n",
      "Processing Record 40 of Set 11 : linxia\n",
      "Processing Record 41 of Set 11 : svetlogorsk\n",
      "Processing Record 42 of Set 11 : atar\n",
      "Processing Record 43 of Set 11 : banda aceh\n",
      "Processing Record 44 of Set 11 : iwanai\n",
      "Processing Record 45 of Set 11 : severnyy\n",
      "-----------------------------\n",
      "Data Retrieval Complete\n",
      "-----------------------------\n"
     ]
    }
   ],
   "source": [
    "\n",
    "print(\"Beginning Data Retrieval \")\n",
    "print(\"-----------------------------\")\n",
    "\n",
    "base_url = \"http://api.openweathermap.org/data/2.5/weather?\"\n",
    "units = \"imperial\"\n",
    "query_url = f\"{base_url}appid={api_key}&units={units}&q=\"\n",
    "\n",
    "\n",
    "# For each city name in cities list, do below things...\n",
    "for index, city in enumerate(cities, start = 1):\n",
    "    try:\n",
    "        response = requests.get(query_url + city).json()\n",
    "        city_name_list.append(response[\"name\"])\n",
    "        cloudiness_list.append(response[\"clouds\"][\"all\"])\n",
    "        country_list.append(response[\"sys\"][\"country\"])\n",
    "        date_list.append(response[\"dt\"])\n",
    "        humidity_list.append(response[\"main\"][\"humidity\"])\n",
    "        lat_list.append(response[\"coord\"][\"lat\"])\n",
    "        lng_list.append(response[\"coord\"][\"lon\"])\n",
    "        max_temp_list.append(response['main']['temp_max'])\n",
    "        wind_speed_list.append(response[\"wind\"][\"speed\"])\n",
    "        if index_counter > 49:\n",
    "            index_counter = 0\n",
    "            set_counter = set_counter + 1\n",
    "    \n",
    "        else:\n",
    "            index_counter = index_counter + 1\n",
    "            \n",
    "        print(f\"Processing Record {index_counter} of Set {set_counter} : {city}\") \n",
    "  \n",
    "    except(KeyError, IndexError):\n",
    "        print(\"City not found. Skipping...\")\n",
    "\n",
    "print(\"-----------------------------\")\n",
    "print(\"Data Retrieval Complete\")\n",
    "print(\"-----------------------------\")"
   ]
  },
  {
   "cell_type": "code",
   "execution_count": null,
   "metadata": {
    "scrolled": true
   },
   "outputs": [],
   "source": []
  },
  {
   "cell_type": "markdown",
   "metadata": {},
   "source": [
    "### Convert Raw Data to DataFrame\n",
    "* Export the city data into a .csv.\n",
    "* Display the DataFrame"
   ]
  },
  {
   "cell_type": "code",
   "execution_count": 13,
   "metadata": {},
   "outputs": [],
   "source": [
    "# Create a panda data frame using data retrieved\n",
    "weather_dict = { \"City\" : city_name_list,\n",
    "                \"Lat\" : lat_list,\n",
    "                \"Lng\" : lng_list,\n",
    "                 \"Max Temp\" : max_temp_list,\n",
    "                \"Humidity\" : humidity_list,\n",
    "                \"Cloudiness\" : cloudiness_list,\n",
    "                \"Wind Speed\" : wind_speed_list,\n",
    "                \"Country\" : country_list,\n",
    "                \"Date\" : date_list,\n",
    "                \n",
    "                \n",
    "                \n",
    "               \n",
    "                \n",
    "}\n",
    "weather_df = pd.DataFrame(weather_dict)"
   ]
  },
  {
   "cell_type": "code",
   "execution_count": 14,
   "metadata": {},
   "outputs": [
    {
     "data": {
      "text/html": [
       "<div>\n",
       "<style scoped>\n",
       "    .dataframe tbody tr th:only-of-type {\n",
       "        vertical-align: middle;\n",
       "    }\n",
       "\n",
       "    .dataframe tbody tr th {\n",
       "        vertical-align: top;\n",
       "    }\n",
       "\n",
       "    .dataframe thead th {\n",
       "        text-align: right;\n",
       "    }\n",
       "</style>\n",
       "<table border=\"1\" class=\"dataframe\">\n",
       "  <thead>\n",
       "    <tr style=\"text-align: right;\">\n",
       "      <th></th>\n",
       "      <th>City</th>\n",
       "      <th>Lat</th>\n",
       "      <th>Lng</th>\n",
       "      <th>Max Temp</th>\n",
       "      <th>Humidity</th>\n",
       "      <th>Cloudiness</th>\n",
       "      <th>Wind Speed</th>\n",
       "      <th>Country</th>\n",
       "      <th>Date</th>\n",
       "    </tr>\n",
       "  </thead>\n",
       "  <tbody>\n",
       "    <tr>\n",
       "      <th>0</th>\n",
       "      <td>Necochea</td>\n",
       "      <td>-38.5473</td>\n",
       "      <td>-58.7368</td>\n",
       "      <td>40.03</td>\n",
       "      <td>71</td>\n",
       "      <td>86</td>\n",
       "      <td>20.56</td>\n",
       "      <td>AR</td>\n",
       "      <td>1627346502</td>\n",
       "    </tr>\n",
       "    <tr>\n",
       "      <th>1</th>\n",
       "      <td>Santa Maria</td>\n",
       "      <td>-29.6842</td>\n",
       "      <td>-53.8069</td>\n",
       "      <td>63.70</td>\n",
       "      <td>100</td>\n",
       "      <td>90</td>\n",
       "      <td>3.44</td>\n",
       "      <td>BR</td>\n",
       "      <td>1627347028</td>\n",
       "    </tr>\n",
       "    <tr>\n",
       "      <th>2</th>\n",
       "      <td>Nikolskoye</td>\n",
       "      <td>59.7035</td>\n",
       "      <td>30.7861</td>\n",
       "      <td>62.49</td>\n",
       "      <td>72</td>\n",
       "      <td>5</td>\n",
       "      <td>4.12</td>\n",
       "      <td>RU</td>\n",
       "      <td>1627346540</td>\n",
       "    </tr>\n",
       "    <tr>\n",
       "      <th>3</th>\n",
       "      <td>Qaanaaq</td>\n",
       "      <td>77.4840</td>\n",
       "      <td>-69.3632</td>\n",
       "      <td>42.42</td>\n",
       "      <td>82</td>\n",
       "      <td>100</td>\n",
       "      <td>8.59</td>\n",
       "      <td>GL</td>\n",
       "      <td>1627346592</td>\n",
       "    </tr>\n",
       "    <tr>\n",
       "      <th>4</th>\n",
       "      <td>Ribeira Grande</td>\n",
       "      <td>38.5167</td>\n",
       "      <td>-28.7000</td>\n",
       "      <td>70.83</td>\n",
       "      <td>89</td>\n",
       "      <td>94</td>\n",
       "      <td>9.98</td>\n",
       "      <td>PT</td>\n",
       "      <td>1627346549</td>\n",
       "    </tr>\n",
       "    <tr>\n",
       "      <th>...</th>\n",
       "      <td>...</td>\n",
       "      <td>...</td>\n",
       "      <td>...</td>\n",
       "      <td>...</td>\n",
       "      <td>...</td>\n",
       "      <td>...</td>\n",
       "      <td>...</td>\n",
       "      <td>...</td>\n",
       "      <td>...</td>\n",
       "    </tr>\n",
       "    <tr>\n",
       "      <th>550</th>\n",
       "      <td>Forsytheganj</td>\n",
       "      <td>52.6333</td>\n",
       "      <td>29.7333</td>\n",
       "      <td>66.72</td>\n",
       "      <td>59</td>\n",
       "      <td>86</td>\n",
       "      <td>5.46</td>\n",
       "      <td>BY</td>\n",
       "      <td>1627347167</td>\n",
       "    </tr>\n",
       "    <tr>\n",
       "      <th>551</th>\n",
       "      <td>Atar</td>\n",
       "      <td>20.5169</td>\n",
       "      <td>-13.0499</td>\n",
       "      <td>91.04</td>\n",
       "      <td>23</td>\n",
       "      <td>4</td>\n",
       "      <td>3.83</td>\n",
       "      <td>MR</td>\n",
       "      <td>1627347167</td>\n",
       "    </tr>\n",
       "    <tr>\n",
       "      <th>552</th>\n",
       "      <td>Banda Aceh</td>\n",
       "      <td>5.5577</td>\n",
       "      <td>95.3222</td>\n",
       "      <td>82.17</td>\n",
       "      <td>77</td>\n",
       "      <td>95</td>\n",
       "      <td>11.79</td>\n",
       "      <td>ID</td>\n",
       "      <td>1627347168</td>\n",
       "    </tr>\n",
       "    <tr>\n",
       "      <th>553</th>\n",
       "      <td>Iwanai</td>\n",
       "      <td>42.9744</td>\n",
       "      <td>140.5089</td>\n",
       "      <td>86.14</td>\n",
       "      <td>48</td>\n",
       "      <td>0</td>\n",
       "      <td>3.76</td>\n",
       "      <td>JP</td>\n",
       "      <td>1627346577</td>\n",
       "    </tr>\n",
       "    <tr>\n",
       "      <th>554</th>\n",
       "      <td>Severnyy</td>\n",
       "      <td>50.6770</td>\n",
       "      <td>36.5532</td>\n",
       "      <td>68.04</td>\n",
       "      <td>49</td>\n",
       "      <td>0</td>\n",
       "      <td>4.47</td>\n",
       "      <td>RU</td>\n",
       "      <td>1627347168</td>\n",
       "    </tr>\n",
       "  </tbody>\n",
       "</table>\n",
       "<p>555 rows × 9 columns</p>\n",
       "</div>"
      ],
      "text/plain": [
       "               City      Lat       Lng  Max Temp  Humidity  Cloudiness  \\\n",
       "0          Necochea -38.5473  -58.7368     40.03        71          86   \n",
       "1       Santa Maria -29.6842  -53.8069     63.70       100          90   \n",
       "2        Nikolskoye  59.7035   30.7861     62.49        72           5   \n",
       "3           Qaanaaq  77.4840  -69.3632     42.42        82         100   \n",
       "4    Ribeira Grande  38.5167  -28.7000     70.83        89          94   \n",
       "..              ...      ...       ...       ...       ...         ...   \n",
       "550    Forsytheganj  52.6333   29.7333     66.72        59          86   \n",
       "551            Atar  20.5169  -13.0499     91.04        23           4   \n",
       "552      Banda Aceh   5.5577   95.3222     82.17        77          95   \n",
       "553          Iwanai  42.9744  140.5089     86.14        48           0   \n",
       "554        Severnyy  50.6770   36.5532     68.04        49           0   \n",
       "\n",
       "     Wind Speed Country        Date  \n",
       "0         20.56      AR  1627346502  \n",
       "1          3.44      BR  1627347028  \n",
       "2          4.12      RU  1627346540  \n",
       "3          8.59      GL  1627346592  \n",
       "4          9.98      PT  1627346549  \n",
       "..          ...     ...         ...  \n",
       "550        5.46      BY  1627347167  \n",
       "551        3.83      MR  1627347167  \n",
       "552       11.79      ID  1627347168  \n",
       "553        3.76      JP  1627346577  \n",
       "554        4.47      RU  1627347168  \n",
       "\n",
       "[555 rows x 9 columns]"
      ]
     },
     "execution_count": 14,
     "metadata": {},
     "output_type": "execute_result"
    }
   ],
   "source": [
    "weather_df"
   ]
  },
  {
   "cell_type": "code",
   "execution_count": 15,
   "metadata": {},
   "outputs": [
    {
     "data": {
      "text/html": [
       "<div>\n",
       "<style scoped>\n",
       "    .dataframe tbody tr th:only-of-type {\n",
       "        vertical-align: middle;\n",
       "    }\n",
       "\n",
       "    .dataframe tbody tr th {\n",
       "        vertical-align: top;\n",
       "    }\n",
       "\n",
       "    .dataframe thead th {\n",
       "        text-align: right;\n",
       "    }\n",
       "</style>\n",
       "<table border=\"1\" class=\"dataframe\">\n",
       "  <thead>\n",
       "    <tr style=\"text-align: right;\">\n",
       "      <th></th>\n",
       "      <th>Lat</th>\n",
       "      <th>Lng</th>\n",
       "      <th>Max Temp</th>\n",
       "      <th>Humidity</th>\n",
       "      <th>Cloudiness</th>\n",
       "      <th>Wind Speed</th>\n",
       "      <th>Date</th>\n",
       "    </tr>\n",
       "  </thead>\n",
       "  <tbody>\n",
       "    <tr>\n",
       "      <th>count</th>\n",
       "      <td>555.000000</td>\n",
       "      <td>555.000000</td>\n",
       "      <td>555.000000</td>\n",
       "      <td>555.000000</td>\n",
       "      <td>555.00000</td>\n",
       "      <td>555.000000</td>\n",
       "      <td>5.550000e+02</td>\n",
       "    </tr>\n",
       "    <tr>\n",
       "      <th>mean</th>\n",
       "      <td>19.154856</td>\n",
       "      <td>16.124036</td>\n",
       "      <td>70.196198</td>\n",
       "      <td>69.754955</td>\n",
       "      <td>52.72973</td>\n",
       "      <td>7.741207</td>\n",
       "      <td>1.627347e+09</td>\n",
       "    </tr>\n",
       "    <tr>\n",
       "      <th>std</th>\n",
       "      <td>33.431238</td>\n",
       "      <td>92.401535</td>\n",
       "      <td>13.735902</td>\n",
       "      <td>19.984049</td>\n",
       "      <td>40.80294</td>\n",
       "      <td>5.626612</td>\n",
       "      <td>2.578299e+02</td>\n",
       "    </tr>\n",
       "    <tr>\n",
       "      <th>min</th>\n",
       "      <td>-54.800000</td>\n",
       "      <td>-175.200000</td>\n",
       "      <td>33.460000</td>\n",
       "      <td>8.000000</td>\n",
       "      <td>0.00000</td>\n",
       "      <td>0.000000</td>\n",
       "      <td>1.627346e+09</td>\n",
       "    </tr>\n",
       "    <tr>\n",
       "      <th>25%</th>\n",
       "      <td>-9.621550</td>\n",
       "      <td>-68.552950</td>\n",
       "      <td>60.765000</td>\n",
       "      <td>57.500000</td>\n",
       "      <td>6.00000</td>\n",
       "      <td>3.690000</td>\n",
       "      <td>1.627347e+09</td>\n",
       "    </tr>\n",
       "    <tr>\n",
       "      <th>50%</th>\n",
       "      <td>21.852500</td>\n",
       "      <td>21.850000</td>\n",
       "      <td>71.830000</td>\n",
       "      <td>74.000000</td>\n",
       "      <td>59.00000</td>\n",
       "      <td>6.060000</td>\n",
       "      <td>1.627347e+09</td>\n",
       "    </tr>\n",
       "    <tr>\n",
       "      <th>75%</th>\n",
       "      <td>48.194450</td>\n",
       "      <td>99.432600</td>\n",
       "      <td>80.520000</td>\n",
       "      <td>85.500000</td>\n",
       "      <td>97.50000</td>\n",
       "      <td>10.360000</td>\n",
       "      <td>1.627347e+09</td>\n",
       "    </tr>\n",
       "    <tr>\n",
       "      <th>max</th>\n",
       "      <td>78.218600</td>\n",
       "      <td>178.416700</td>\n",
       "      <td>100.350000</td>\n",
       "      <td>100.000000</td>\n",
       "      <td>100.00000</td>\n",
       "      <td>36.640000</td>\n",
       "      <td>1.627347e+09</td>\n",
       "    </tr>\n",
       "  </tbody>\n",
       "</table>\n",
       "</div>"
      ],
      "text/plain": [
       "              Lat         Lng    Max Temp    Humidity  Cloudiness  Wind Speed  \\\n",
       "count  555.000000  555.000000  555.000000  555.000000   555.00000  555.000000   \n",
       "mean    19.154856   16.124036   70.196198   69.754955    52.72973    7.741207   \n",
       "std     33.431238   92.401535   13.735902   19.984049    40.80294    5.626612   \n",
       "min    -54.800000 -175.200000   33.460000    8.000000     0.00000    0.000000   \n",
       "25%     -9.621550  -68.552950   60.765000   57.500000     6.00000    3.690000   \n",
       "50%     21.852500   21.850000   71.830000   74.000000    59.00000    6.060000   \n",
       "75%     48.194450   99.432600   80.520000   85.500000    97.50000   10.360000   \n",
       "max     78.218600  178.416700  100.350000  100.000000   100.00000   36.640000   \n",
       "\n",
       "               Date  \n",
       "count  5.550000e+02  \n",
       "mean   1.627347e+09  \n",
       "std    2.578299e+02  \n",
       "min    1.627346e+09  \n",
       "25%    1.627347e+09  \n",
       "50%    1.627347e+09  \n",
       "75%    1.627347e+09  \n",
       "max    1.627347e+09  "
      ]
     },
     "execution_count": 15,
     "metadata": {},
     "output_type": "execute_result"
    }
   ],
   "source": [
    "weather_df.describe()"
   ]
  },
  {
   "cell_type": "code",
   "execution_count": null,
   "metadata": {},
   "outputs": [],
   "source": []
  },
  {
   "cell_type": "code",
   "execution_count": null,
   "metadata": {},
   "outputs": [],
   "source": []
  },
  {
   "cell_type": "code",
   "execution_count": 16,
   "metadata": {},
   "outputs": [
    {
     "name": "stdout",
     "output_type": "stream",
     "text": [
      "lower bound is  10.0\n",
      "upper bound is  130.0\n"
     ]
    }
   ],
   "source": [
    "Q1 = 55\n",
    "Q3 = 85\n",
    "IQR = Q3 - Q1\n",
    "LB = Q1-(1.5*IQR)\n",
    "UB = Q3 +(1.5*IQR)\n",
    " \n",
    "print(f\"lower bound is \", LB)\n",
    "print(f\"upper bound is \", UB)"
   ]
  },
  {
   "cell_type": "code",
   "execution_count": null,
   "metadata": {},
   "outputs": [],
   "source": []
  },
  {
   "cell_type": "markdown",
   "metadata": {},
   "source": [
    "## Inspect the data and remove the cities where the humidity > 100%.\n",
    "----\n",
    "Skip this step if there are no cities that have humidity  100%. "
   ]
  },
  {
   "cell_type": "code",
   "execution_count": 17,
   "metadata": {},
   "outputs": [],
   "source": [
    "# no citites foound with humidity >100"
   ]
  },
  {
   "cell_type": "code",
   "execution_count": null,
   "metadata": {},
   "outputs": [],
   "source": []
  },
  {
   "cell_type": "code",
   "execution_count": 18,
   "metadata": {},
   "outputs": [],
   "source": [
    "#  Get the indices of cities that have humidity over 100%.\n",
    "#no citiy with humidity ober 100%"
   ]
  },
  {
   "cell_type": "code",
   "execution_count": 19,
   "metadata": {},
   "outputs": [],
   "source": [
    "# Make a new DataFrame equal to the city data to drop all humidity outliers by index.\n",
    "# Passing \"inplace=False\" will make a copy of the city_data DataFrame, which we call \"clean_city_data\".\n"
   ]
  },
  {
   "cell_type": "code",
   "execution_count": 20,
   "metadata": {},
   "outputs": [
    {
     "data": {
      "text/html": [
       "<div>\n",
       "<style scoped>\n",
       "    .dataframe tbody tr th:only-of-type {\n",
       "        vertical-align: middle;\n",
       "    }\n",
       "\n",
       "    .dataframe tbody tr th {\n",
       "        vertical-align: top;\n",
       "    }\n",
       "\n",
       "    .dataframe thead th {\n",
       "        text-align: right;\n",
       "    }\n",
       "</style>\n",
       "<table border=\"1\" class=\"dataframe\">\n",
       "  <thead>\n",
       "    <tr style=\"text-align: right;\">\n",
       "      <th></th>\n",
       "      <th>City</th>\n",
       "      <th>Lat</th>\n",
       "      <th>Lng</th>\n",
       "      <th>Max Temp</th>\n",
       "      <th>Humidity</th>\n",
       "      <th>Cloudiness</th>\n",
       "      <th>Wind Speed</th>\n",
       "      <th>Country</th>\n",
       "      <th>Date</th>\n",
       "    </tr>\n",
       "  </thead>\n",
       "  <tbody>\n",
       "    <tr>\n",
       "      <th>0</th>\n",
       "      <td>Necochea</td>\n",
       "      <td>-38.5473</td>\n",
       "      <td>-58.7368</td>\n",
       "      <td>40.03</td>\n",
       "      <td>71</td>\n",
       "      <td>86</td>\n",
       "      <td>20.56</td>\n",
       "      <td>AR</td>\n",
       "      <td>1627346502</td>\n",
       "    </tr>\n",
       "    <tr>\n",
       "      <th>1</th>\n",
       "      <td>Santa Maria</td>\n",
       "      <td>-29.6842</td>\n",
       "      <td>-53.8069</td>\n",
       "      <td>63.70</td>\n",
       "      <td>100</td>\n",
       "      <td>90</td>\n",
       "      <td>3.44</td>\n",
       "      <td>BR</td>\n",
       "      <td>1627347028</td>\n",
       "    </tr>\n",
       "    <tr>\n",
       "      <th>2</th>\n",
       "      <td>Nikolskoye</td>\n",
       "      <td>59.7035</td>\n",
       "      <td>30.7861</td>\n",
       "      <td>62.49</td>\n",
       "      <td>72</td>\n",
       "      <td>5</td>\n",
       "      <td>4.12</td>\n",
       "      <td>RU</td>\n",
       "      <td>1627346540</td>\n",
       "    </tr>\n",
       "    <tr>\n",
       "      <th>3</th>\n",
       "      <td>Qaanaaq</td>\n",
       "      <td>77.4840</td>\n",
       "      <td>-69.3632</td>\n",
       "      <td>42.42</td>\n",
       "      <td>82</td>\n",
       "      <td>100</td>\n",
       "      <td>8.59</td>\n",
       "      <td>GL</td>\n",
       "      <td>1627346592</td>\n",
       "    </tr>\n",
       "    <tr>\n",
       "      <th>4</th>\n",
       "      <td>Ribeira Grande</td>\n",
       "      <td>38.5167</td>\n",
       "      <td>-28.7000</td>\n",
       "      <td>70.83</td>\n",
       "      <td>89</td>\n",
       "      <td>94</td>\n",
       "      <td>9.98</td>\n",
       "      <td>PT</td>\n",
       "      <td>1627346549</td>\n",
       "    </tr>\n",
       "    <tr>\n",
       "      <th>...</th>\n",
       "      <td>...</td>\n",
       "      <td>...</td>\n",
       "      <td>...</td>\n",
       "      <td>...</td>\n",
       "      <td>...</td>\n",
       "      <td>...</td>\n",
       "      <td>...</td>\n",
       "      <td>...</td>\n",
       "      <td>...</td>\n",
       "    </tr>\n",
       "    <tr>\n",
       "      <th>550</th>\n",
       "      <td>Forsytheganj</td>\n",
       "      <td>52.6333</td>\n",
       "      <td>29.7333</td>\n",
       "      <td>66.72</td>\n",
       "      <td>59</td>\n",
       "      <td>86</td>\n",
       "      <td>5.46</td>\n",
       "      <td>BY</td>\n",
       "      <td>1627347167</td>\n",
       "    </tr>\n",
       "    <tr>\n",
       "      <th>551</th>\n",
       "      <td>Atar</td>\n",
       "      <td>20.5169</td>\n",
       "      <td>-13.0499</td>\n",
       "      <td>91.04</td>\n",
       "      <td>23</td>\n",
       "      <td>4</td>\n",
       "      <td>3.83</td>\n",
       "      <td>MR</td>\n",
       "      <td>1627347167</td>\n",
       "    </tr>\n",
       "    <tr>\n",
       "      <th>552</th>\n",
       "      <td>Banda Aceh</td>\n",
       "      <td>5.5577</td>\n",
       "      <td>95.3222</td>\n",
       "      <td>82.17</td>\n",
       "      <td>77</td>\n",
       "      <td>95</td>\n",
       "      <td>11.79</td>\n",
       "      <td>ID</td>\n",
       "      <td>1627347168</td>\n",
       "    </tr>\n",
       "    <tr>\n",
       "      <th>553</th>\n",
       "      <td>Iwanai</td>\n",
       "      <td>42.9744</td>\n",
       "      <td>140.5089</td>\n",
       "      <td>86.14</td>\n",
       "      <td>48</td>\n",
       "      <td>0</td>\n",
       "      <td>3.76</td>\n",
       "      <td>JP</td>\n",
       "      <td>1627346577</td>\n",
       "    </tr>\n",
       "    <tr>\n",
       "      <th>554</th>\n",
       "      <td>Severnyy</td>\n",
       "      <td>50.6770</td>\n",
       "      <td>36.5532</td>\n",
       "      <td>68.04</td>\n",
       "      <td>49</td>\n",
       "      <td>0</td>\n",
       "      <td>4.47</td>\n",
       "      <td>RU</td>\n",
       "      <td>1627347168</td>\n",
       "    </tr>\n",
       "  </tbody>\n",
       "</table>\n",
       "<p>555 rows × 9 columns</p>\n",
       "</div>"
      ],
      "text/plain": [
       "               City      Lat       Lng  Max Temp  Humidity  Cloudiness  \\\n",
       "0          Necochea -38.5473  -58.7368     40.03        71          86   \n",
       "1       Santa Maria -29.6842  -53.8069     63.70       100          90   \n",
       "2        Nikolskoye  59.7035   30.7861     62.49        72           5   \n",
       "3           Qaanaaq  77.4840  -69.3632     42.42        82         100   \n",
       "4    Ribeira Grande  38.5167  -28.7000     70.83        89          94   \n",
       "..              ...      ...       ...       ...       ...         ...   \n",
       "550    Forsytheganj  52.6333   29.7333     66.72        59          86   \n",
       "551            Atar  20.5169  -13.0499     91.04        23           4   \n",
       "552      Banda Aceh   5.5577   95.3222     82.17        77          95   \n",
       "553          Iwanai  42.9744  140.5089     86.14        48           0   \n",
       "554        Severnyy  50.6770   36.5532     68.04        49           0   \n",
       "\n",
       "     Wind Speed Country        Date  \n",
       "0         20.56      AR  1627346502  \n",
       "1          3.44      BR  1627347028  \n",
       "2          4.12      RU  1627346540  \n",
       "3          8.59      GL  1627346592  \n",
       "4          9.98      PT  1627346549  \n",
       "..          ...     ...         ...  \n",
       "550        5.46      BY  1627347167  \n",
       "551        3.83      MR  1627347167  \n",
       "552       11.79      ID  1627347168  \n",
       "553        3.76      JP  1627346577  \n",
       "554        4.47      RU  1627347168  \n",
       "\n",
       "[555 rows x 9 columns]"
      ]
     },
     "execution_count": 20,
     "metadata": {},
     "output_type": "execute_result"
    }
   ],
   "source": [
    "clean_df = weather_df[(np.abs(stats.zscore(weather_df['Humidity'])<3) )]\n",
    "clean_df "
   ]
  },
  {
   "cell_type": "markdown",
   "metadata": {},
   "source": [
    "## Plotting the Data\n",
    "* Use proper labeling of the plots using plot titles (including date of analysis) and axes labels.\n",
    "* Save the plotted figures as .pngs."
   ]
  },
  {
   "cell_type": "markdown",
   "metadata": {},
   "source": [
    "## Latitude vs. Temperature Plot"
   ]
  },
  {
   "cell_type": "code",
   "execution_count": 21,
   "metadata": {
    "scrolled": true
   },
   "outputs": [
    {
     "data": {
      "image/png": "[encoded data removed]",
      "text/plain": [
       "<Figure size 432x288 with 1 Axes>"
      ]
     },
     "metadata": {
      "needs_background": "light"
     },
     "output_type": "display_data"
    }
   ],
   "source": [
    "# Create Latitude vs. Temperature Plot scatter plot\n",
    "plt.scatter(weather_df[\"Lat\"], weather_df[\"Max Temp\"], facecolor = \"steelblue\", edgecolor = \"black\")\n",
    "\n",
    "# Set title\n",
    "plt.title(\"City Latitude vs. Max Temperature (01/17/20)\")\n",
    "\n",
    "# Set x axis label\n",
    "plt.xlabel(\"Laitude\")\n",
    "\n",
    "# Set y axis label\n",
    "plt.ylabel(\"Max Temperature (F)\")\n",
    "\n",
    "# Set grid line\n",
    "plt.grid(linestyle='-', linewidth=1, alpha = 0.5)\n",
    "\n",
    "# Save the plotted figure as .pngs\n",
    "plt.savefig('lat vs temp')\n",
    "plt.show()"
   ]
  },
  {
   "cell_type": "code",
   "execution_count": null,
   "metadata": {},
   "outputs": [],
   "source": []
  },
  {
   "cell_type": "markdown",
   "metadata": {},
   "source": [
    "## Latitude vs. Humidity Plot"
   ]
  },
  {
   "cell_type": "code",
   "execution_count": 22,
   "metadata": {},
   "outputs": [
    {
     "data": {
      "image/png": "[encoded data removed]",
      "text/plain": [
       "<Figure size 432x288 with 1 Axes>"
      ]
     },
     "metadata": {
      "needs_background": "light"
     },
     "output_type": "display_data"
    }
   ],
   "source": [
    "# Create Latitude vs. Humidity Plot scatter plot\n",
    "plt.scatter(clean_df[\"Lat\"], clean_df[\"Humidity\"], facecolor = \"steelblue\", edgecolor = \"black\")\n",
    "\n",
    "# Set title\n",
    "plt.title(\"City Latitude vs. Humidity (01/17/20)\")\n",
    "\n",
    "# Set x axis label\n",
    "plt.xlabel(\"Laitude\")\n",
    "\n",
    "# Set y axis label\n",
    "plt.ylabel(\"Humidity (%)\")\n",
    "\n",
    "# Set grid line\n",
    "plt.grid(linestyle='-', linewidth=1, alpha = 0.5)\n",
    "\n",
    "# Save the plotted figure as .pngs\n",
    "plt.savefig(\"Latitude vs Humidity\")\n"
   ]
  },
  {
   "cell_type": "code",
   "execution_count": 23,
   "metadata": {},
   "outputs": [],
   "source": [
    "#There is no correlation betwwen latitude and humidity"
   ]
  },
  {
   "cell_type": "markdown",
   "metadata": {},
   "source": [
    "## Latitude vs. Cloudiness Plot"
   ]
  },
  {
   "cell_type": "code",
   "execution_count": 24,
   "metadata": {},
   "outputs": [
    {
     "data": {
      "image/png": "[encoded data removed]",
      "text/plain": [
       "<Figure size 432x288 with 1 Axes>"
      ]
     },
     "metadata": {
      "needs_background": "light"
     },
     "output_type": "display_data"
    }
   ],
   "source": [
    "# Create Latitude vs. Cloudiness Plot scatter plot\n",
    "plt.scatter(clean_df[\"Lat\"], clean_df[\"Cloudiness\"], facecolor = \"steelblue\", edgecolor = \"black\")\n",
    "\n",
    "# Set title\n",
    "plt.title(\"City Latitude vs. Cloudiness (01/17/20)\")\n",
    "\n",
    "# Set x axis label\n",
    "plt.xlabel(\"Laitude\")\n",
    "\n",
    "# Set y axis label\n",
    "plt.ylabel(\"Cloudiness (%)\")\n",
    "\n",
    "# Set y axis limit\n",
    "plt.ylim(-5,105)\n",
    "\n",
    "# Set grid line\n",
    "plt.grid(linestyle='-', linewidth=1, alpha = 0.5)\n",
    "\n",
    "# Save the plotted figure as .pngs\n",
    "plt.savefig(\"Latitude vs Cloudiness\")"
   ]
  },
  {
   "cell_type": "code",
   "execution_count": 25,
   "metadata": {},
   "outputs": [],
   "source": [
    "#no correlation between latitude and cloudiness"
   ]
  },
  {
   "cell_type": "markdown",
   "metadata": {},
   "source": [
    "## Latitude vs. Wind Speed Plot"
   ]
  },
  {
   "cell_type": "code",
   "execution_count": 26,
   "metadata": {},
   "outputs": [
    {
     "data": {
      "image/png": "[encoded data removed]",
      "text/plain": [
       "<Figure size 432x288 with 1 Axes>"
      ]
     },
     "metadata": {
      "needs_background": "light"
     },
     "output_type": "display_data"
    }
   ],
   "source": [
    "# Create Latitude vs. Wind Speed scatter plot\n",
    "plt.scatter(clean_df[\"Lat\"], clean_df[\"Wind Speed\"], facecolor = \"steelblue\", edgecolor = \"black\")\n",
    "plt.title(\"City Latitude vs. Wind Speed (mph) (01/17/20)\")\n",
    "\n",
    "# Set x axis label\n",
    "plt.xlabel(\"Laitude\")\n",
    "\n",
    "# Set y axis label\n",
    "plt.ylabel(\"Wind Speed (%)\")\n",
    "\n",
    "# Set y axis limit\n",
    "plt.ylim(-2,50)\n",
    "\n",
    "# Set grid line\n",
    "plt.grid(linestyle='-', linewidth=1, alpha = 0.5)\n",
    "\n",
    "# Save the plotted figure as .pngs\n",
    "plt.savefig(\"Latitude vs Wind Speed (mph)\")"
   ]
  },
  {
   "cell_type": "code",
   "execution_count": null,
   "metadata": {},
   "outputs": [],
   "source": [
    "#No correlation betwwen city latitude and wind speed"
   ]
  },
  {
   "cell_type": "markdown",
   "metadata": {},
   "source": [
    "## Linear Regression"
   ]
  },
  {
   "cell_type": "code",
   "execution_count": 27,
   "metadata": {},
   "outputs": [],
   "source": [
    "# Create Northern and Southern Hemisphere DataFrames\n",
    "north = clean_df.loc[clean_df[\"Lat\"] >= 0]\n",
    "south= clean_df.loc[clean_df[\"Lat\"] < 0]"
   ]
  },
  {
   "cell_type": "code",
   "execution_count": 28,
   "metadata": {},
   "outputs": [],
   "source": [
    "# Define function for creating linear agression and scatter plot\n",
    "def linear_agression(x,y):\n",
    "    print(f\"The r-squared is : {round(st.pearsonr(x, y)[0],2)}\")\n",
    "    (slope, intercept, rvalue, pvalue, stderr) = linregress(x, y)\n",
    "    regress_values = x * slope + intercept\n",
    "    line_eq = \"y = \" + str(round(slope,2)) + \"x + \" + str(round(intercept,2))\n",
    "    plt.scatter(x, y)\n",
    "    plt.plot(x,regress_values,\"r-\")\n",
    "    return line_eq\n",
    "\n",
    "# Define a fuction for annotating\n",
    "def annotate(line_eq, a, b):\n",
    "    plt.annotate(line_eq,(a,b),fontsize=15,color=\"red\")\n",
    "      "
   ]
  },
  {
   "cell_type": "code",
   "execution_count": null,
   "metadata": {},
   "outputs": [],
   "source": []
  },
  {
   "cell_type": "markdown",
   "metadata": {},
   "source": [
    "####  Northern Hemisphere - Max Temp vs. Latitude Linear Regression"
   ]
  },
  {
   "cell_type": "code",
   "execution_count": 30,
   "metadata": {},
   "outputs": [
    {
     "name": "stdout",
     "output_type": "stream",
     "text": [
      "The r-squared is : -0.61\n"
     ]
    },
    {
     "data": {
      "image/png": "[encoded data removed]",
      "text/plain": [
       "<Figure size 432x288 with 1 Axes>"
      ]
     },
     "metadata": {
      "needs_background": "light"
     },
     "output_type": "display_data"
    }
   ],
   "source": [
    "# Call an function #1\n",
    "equation = linear_agression(north[\"Lat\"], north[\"Max Temp\"])\n",
    "\n",
    "# Call an function #2\n",
    "annotate(equation, 30, 40)\n",
    "\n",
    "# Set a title\n",
    "plt.title(\"Northern Hemisphere - Max Temp vs. Latitude Linear Regression\")\n",
    "\n",
    "# Set xlabel\n",
    "plt.xlabel(\"Latitude\")\n",
    "\n",
    "# Set ylabel\n",
    "plt.ylabel(\"Max Temp (F)\")\n",
    "\n",
    "# Save the figure\n",
    "#plt.savefig(\"../Images/Northern Hemisphere - Max Temp vs. Latitude Linear Regression.png\")\n",
    "plt.show()"
   ]
  },
  {
   "cell_type": "markdown",
   "metadata": {},
   "source": [
    "####  Southern Hemisphere - Max Temp vs. Latitude Linear Regression"
   ]
  },
  {
   "cell_type": "code",
   "execution_count": 31,
   "metadata": {},
   "outputs": [
    {
     "name": "stdout",
     "output_type": "stream",
     "text": [
      "The r-squared is : 0.72\n"
     ]
    },
    {
     "data": {
      "image/png": "[encoded data removed]",
      "text/plain": [
       "<Figure size 432x288 with 1 Axes>"
      ]
     },
     "metadata": {
      "needs_background": "light"
     },
     "output_type": "display_data"
    }
   ],
   "source": [
    "# Call an function #1\n",
    "equation = linear_agression(south[\"Lat\"], south[\"Max Temp\"])\n",
    "\n",
    "# Call an function #2\n",
    "annotate(equation, -40, 60)\n",
    "\n",
    "# Set a title\n",
    "plt.title(\"Southern Hemisphere - Max Temp vs. Latitude Linear Regression\")\n",
    "\n",
    "# Set xlabel\n",
    "plt.xlabel(\"Latitude\")\n",
    "\n",
    "# Set ylabel\n",
    "plt.ylabel(\"Max Temp (F)\")\n",
    "\n",
    "# Save the figure\n",
    "#plt.savefig(\"Northern Hemisphere - Max Temp vs. Latitude Linear Regression\")\n",
    "plt.show()"
   ]
  },
  {
   "cell_type": "code",
   "execution_count": null,
   "metadata": {},
   "outputs": [],
   "source": [
    "#Strong positive correlation between souther hemisphere temperature and latitude"
   ]
  },
  {
   "cell_type": "markdown",
   "metadata": {},
   "source": [
    "####  Northern Hemisphere - Humidity (%) vs. Latitude Linear Regression"
   ]
  },
  {
   "cell_type": "code",
   "execution_count": 32,
   "metadata": {},
   "outputs": [
    {
     "name": "stdout",
     "output_type": "stream",
     "text": [
      "The r-squared is : -0.09\n"
     ]
    },
    {
     "data": {
      "image/png": "[encoded data removed]",
      "text/plain": [
       "<Figure size 432x288 with 1 Axes>"
      ]
     },
     "metadata": {
      "needs_background": "light"
     },
     "output_type": "display_data"
    }
   ],
   "source": [
    "# Call an function #1\n",
    "equation = linear_agression(north[\"Humidity\"], north[\"Lat\"])\n",
    "\n",
    "# Call an function #2\n",
    "annotate(equation, 40, 50)\n",
    "\n",
    "# Set a title\n",
    "plt.title(\"Northern Hemisphere - Humidity (%) vs. Latitude Linear Regression\")\n",
    "\n",
    "# Set xlabel\n",
    "plt.xlabel(\"Latitude\")\n",
    "\n",
    "# Set ylabel\n",
    "plt.ylabel(\"Humidity (%)\")\n",
    "\n",
    "# Save the figure\n",
    "#plt.savefig(\"../Images/Northern Hemisphere - Max Temp vs. Latitude Linear Regression.png\")\n",
    "plt.show()"
   ]
  },
  {
   "cell_type": "code",
   "execution_count": null,
   "metadata": {},
   "outputs": [],
   "source": [
    "#very little to sligthly negative correlation bettwen northern hemisphere humidity and latitude"
   ]
  },
  {
   "cell_type": "markdown",
   "metadata": {},
   "source": [
    "####  Southern Hemisphere - Humidity (%) vs. Latitude Linear Regression"
   ]
  },
  {
   "cell_type": "code",
   "execution_count": 33,
   "metadata": {},
   "outputs": [
    {
     "name": "stdout",
     "output_type": "stream",
     "text": [
      "The r-squared is : 0.11\n"
     ]
    },
    {
     "data": {
      "image/png": "[encoded data removed]",
      "text/plain": [
       "<Figure size 432x288 with 1 Axes>"
      ]
     },
     "metadata": {
      "needs_background": "light"
     },
     "output_type": "display_data"
    }
   ],
   "source": [
    "# Call an function #1\n",
    "equation = linear_agression(south[\"Humidity\"], south[\"Lat\"])\n",
    "\n",
    "# Call an function #2\n",
    "annotate(equation, 50, -20)\n",
    "\n",
    "# Set a title\n",
    "plt.title(\"Southern Hemisphere - Humidity (%) vs. Latitude Linear Regression\")\n",
    "\n",
    "# Set xlabel\n",
    "plt.xlabel(\"Latitude\")\n",
    "\n",
    "# Set ylabel\n",
    "plt.ylabel(\"Humidity (%)\")\n",
    "\n",
    "# Save the figure\n",
    "#plt.savefig(\"Southern Hemisphere - Humidity vs. Latitude Linear Regression\")\n",
    "plt.show()"
   ]
  },
  {
   "cell_type": "code",
   "execution_count": null,
   "metadata": {},
   "outputs": [],
   "source": [
    "#very little to sligthly positive correlation bettwen northern hemisphere humidity and latitude"
   ]
  },
  {
   "cell_type": "markdown",
   "metadata": {},
   "source": [
    "####  Northern Hemisphere - Cloudiness (%) vs. Latitude Linear Regression"
   ]
  },
  {
   "cell_type": "code",
   "execution_count": 45,
   "metadata": {},
   "outputs": [
    {
     "name": "stdout",
     "output_type": "stream",
     "text": [
      "The r-squared is : 0.01\n"
     ]
    },
    {
     "data": {
      "image/png": "[encoded data removed]",
      "text/plain": [
       "<Figure size 432x288 with 1 Axes>"
      ]
     },
     "metadata": {
      "needs_background": "light"
     },
     "output_type": "display_data"
    }
   ],
   "source": [
    "# Call an function #1\n",
    "equation = linear_agression(north[\"Cloudiness\"], north[\"Lat\"])\n",
    "\n",
    "# Call an function #2\n",
    "annotate(equation, 0, 0)\n",
    "\n",
    "# Set a title\n",
    "plt.title(\"Northern Hemisphere -Cloudines vs. Latitude Linear Regression\")\n",
    "\n",
    "# Set xlabel\n",
    "plt.xlabel(\"Latitude\")\n",
    "\n",
    "# Set ylabel\n",
    "plt.ylabel(\"Humidity (%)\")\n",
    "\n",
    "# Save the figure\n",
    "#plt.savefig(\"../Images/Northern Hemisphere - Max Temp vs. Latitude Linear Regression.png\")\n",
    "plt.show()"
   ]
  },
  {
   "cell_type": "code",
   "execution_count": null,
   "metadata": {},
   "outputs": [],
   "source": [
    "#zero correlation with cloudiness vs latitude for Norther Hemisphere"
   ]
  },
  {
   "cell_type": "markdown",
   "metadata": {},
   "source": [
    "####  Southern Hemisphere - Cloudiness (%) vs. Latitude Linear Regression"
   ]
  },
  {
   "cell_type": "code",
   "execution_count": 48,
   "metadata": {},
   "outputs": [
    {
     "name": "stdout",
     "output_type": "stream",
     "text": [
      "The r-squared is : 0.04\n"
     ]
    },
    {
     "data": {
      "image/png": "[encoded data removed]",
      "text/plain": [
       "<Figure size 432x288 with 1 Axes>"
      ]
     },
     "metadata": {
      "needs_background": "light"
     },
     "output_type": "display_data"
    }
   ],
   "source": [
    "# Call an function #1\n",
    "equation = linear_agression(south[\"Cloudiness\"], south[\"Lat\"])\n",
    "\n",
    "# Call an function #2\n",
    "annotate(equation, 0, 0)\n",
    "\n",
    "# Set a title\n",
    "plt.title(\"Southern Hemisphere - Cloudiness vs. Latitude Linear Regression\")\n",
    "\n",
    "# Set xlabel\n",
    "plt.xlabel(\"Latitude\")\n",
    "\n",
    "# Set ylabel\n",
    "plt.ylabel(\"Humidity (%)\")\n",
    "\n",
    "# Save the figure\n",
    "#plt.savefig(\"../Images/Northern Hemisphere - Max Temp vs. Latitude Linear Regression.png\")\n",
    "plt.show()"
   ]
  },
  {
   "cell_type": "code",
   "execution_count": null,
   "metadata": {},
   "outputs": [],
   "source": [
    "#zero correlation with cloudiness vs latitude for Norther Hemisphere"
   ]
  },
  {
   "cell_type": "markdown",
   "metadata": {},
   "source": [
    "####  Northern Hemisphere - Wind Speed (mph) vs. Latitude Linear Regression"
   ]
  },
  {
   "cell_type": "code",
   "execution_count": 50,
   "metadata": {},
   "outputs": [
    {
     "name": "stdout",
     "output_type": "stream",
     "text": [
      "The r-squared is : -0.04\n"
     ]
    },
    {
     "data": {
      "image/png": "[encoded data removed]",
      "text/plain": [
       "<Figure size 432x288 with 1 Axes>"
      ]
     },
     "metadata": {
      "needs_background": "light"
     },
     "output_type": "display_data"
    }
   ],
   "source": [
    "# Call an function #1\n",
    "equation = linear_agression(north[\"Wind Speed\"], north[\"Lat\"])\n",
    "\n",
    "# Call an function #2\n",
    "annotate(equation, 0, 0)\n",
    "\n",
    "# Set a title\n",
    "plt.title(\"Northern Hemisphere - Wind Speed vs. Latitude Linear Regression\")\n",
    "\n",
    "# Set xlabel\n",
    "plt.xlabel(\"Latitude\")\n",
    "\n",
    "# Set ylabel\n",
    "plt.ylabel(\"Humidity (%)\")\n",
    "\n",
    "# Save the figure\n",
    "#plt.savefig(\"../Images/Northern Hemisphere - Max Temp vs. Latitude Linear Regression.png\")\n",
    "plt.show()"
   ]
  },
  {
   "cell_type": "code",
   "execution_count": null,
   "metadata": {},
   "outputs": [],
   "source": [
    "#slightly negative coorelation"
   ]
  },
  {
   "cell_type": "markdown",
   "metadata": {},
   "source": [
    "####  Southern Hemisphere - Wind Speed (mph) vs. Latitude Linear Regression"
   ]
  },
  {
   "cell_type": "code",
   "execution_count": 51,
   "metadata": {},
   "outputs": [
    {
     "name": "stdout",
     "output_type": "stream",
     "text": [
      "The r-squared is : -0.04\n"
     ]
    },
    {
     "data": {
      "image/png": "[encoded data removed]",
      "text/plain": [
       "<Figure size 432x288 with 1 Axes>"
      ]
     },
     "metadata": {
      "needs_background": "light"
     },
     "output_type": "display_data"
    }
   ],
   "source": [
    "# Call an function #1\n",
    "equation = linear_agression(south[\"Wind Speed\"], south[\"Lat\"])\n",
    "\n",
    "# Call an function #2\n",
    "annotate(equation, 0, 0)\n",
    "\n",
    "# Set a title\n",
    "plt.title(\"Southern Hemisphere - Wind Speed vs. Latitude Linear Regression\")\n",
    "\n",
    "# Set xlabel\n",
    "plt.xlabel(\"Latitude\")\n",
    "\n",
    "# Set ylabel\n",
    "plt.ylabel(\"Humidity (%)\")\n",
    "\n",
    "# Save the figure\n",
    "#plt.savefig(\"../Images/Northern Hemisphere - Max Temp vs. Latitude Linear Regression.png\")\n",
    "plt.show()"
   ]
  },
  {
   "cell_type": "code",
   "execution_count": null,
   "metadata": {},
   "outputs": [],
   "source": [
    "#slightly negative correlation"
   ]
  },
  {
   "cell_type": "code",
   "execution_count": null,
   "metadata": {},
   "outputs": [],
   "source": []
  }
 ],
 "metadata": {
  "anaconda-cloud": {},
  "kernel_info": {
   "name": "python3"
  },
  "kernelspec": {
   "display_name": "Python 3",
   "language": "python",
   "name": "python3"
  },
  "language_info": {
   "codemirror_mode": {
    "name": "ipython",
    "version": 3
   },
   "file_extension": ".py",
   "mimetype": "text/x-python",
   "name": "python",
   "nbconvert_exporter": "python",
   "pygments_lexer": "ipython3",
   "version": "3.8.8"
  },
  "latex_envs": {
   "LaTeX_envs_menu_present": true,
   "autoclose": false,
   "autocomplete": true,
   "bibliofile": "biblio.bib",
   "cite_by": "apalike",
   "current_citInitial": 1,
   "eqLabelWithNumbers": true,
   "eqNumInitial": 1,
   "hotkeys": {
    "equation": "Ctrl-E",
    "itemize": "Ctrl-I"
   },
   "labels_anchors": false,
   "latex_user_defs": false,
   "report_style_numbering": false,
   "user_envs_cfg": false
  },
  "nteract": {
   "version": "0.12.3"
  },
  "toc-autonumbering": true
 },
 "nbformat": 4,
 "nbformat_minor": 4
}
